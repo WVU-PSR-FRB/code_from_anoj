{
 "cells": [
  {
   "cell_type": "code",
   "execution_count": 2,
   "id": "998f3465-ada2-4990-b1f4-b40987e5c1ac",
   "metadata": {},
   "outputs": [],
   "source": [
    "import numpy as np\n",
    "import pandas as pd\n",
    "import time\n",
    "import warnings\n",
    "warnings.filterwarnings('ignore')"
   ]
  },
  {
   "cell_type": "code",
   "execution_count": 3,
   "id": "9943f437-ea9b-41ed-9fc2-0a37ca662030",
   "metadata": {},
   "outputs": [
    {
     "data": {
      "text/html": [
       "<div>\n",
       "<style scoped>\n",
       "    .dataframe tbody tr th:only-of-type {\n",
       "        vertical-align: middle;\n",
       "    }\n",
       "\n",
       "    .dataframe tbody tr th {\n",
       "        vertical-align: top;\n",
       "    }\n",
       "\n",
       "    .dataframe thead th {\n",
       "        text-align: right;\n",
       "    }\n",
       "</style>\n",
       "<table border=\"1\" class=\"dataframe\">\n",
       "  <thead>\n",
       "    <tr style=\"text-align: right;\">\n",
       "      <th></th>\n",
       "      <th>time_sec</th>\n",
       "      <th>intensity</th>\n",
       "    </tr>\n",
       "  </thead>\n",
       "  <tbody>\n",
       "    <tr>\n",
       "      <th>0</th>\n",
       "      <td>0.0</td>\n",
       "      <td>0.77546</td>\n",
       "    </tr>\n",
       "  </tbody>\n",
       "</table>\n",
       "</div>"
      ],
      "text/plain": [
       "   time_sec  intensity\n",
       "0       0.0    0.77546"
      ]
     },
     "execution_count": 3,
     "metadata": {},
     "output_type": "execute_result"
    }
   ],
   "source": [
    "df = pd.read_csv('/home/ak/research/emmanuel/proj_algorithm/NormalCode/sim_pulse_02_updated.txt', sep = '    ')\n",
    "time_val = np.array(df['time_sec'])\n",
    "sample_time = df['time_sec'][1] - df['time_sec'][0] \n",
    "lower_limit_freq = 2/(max(df['time_sec']))\n",
    "upper_limit_freq = 1/(2*sample_time)\n",
    "df.head(1)"
   ]
  },
  {
   "cell_type": "code",
   "execution_count": null,
   "id": "2b9efd61-2640-41e6-9dd2-ebce8d9bf85d",
   "metadata": {},
   "outputs": [],
   "source": []
  },
  {
   "cell_type": "code",
   "execution_count": 4,
   "id": "93a551b8-4f42-4d21-b777-30ce6b10d7e8",
   "metadata": {},
   "outputs": [],
   "source": [
    "def pulse_phase_python(p0, t, w0):    \n",
    "        \"\"\"\n",
    "        Calculates and returns pulse phase at any given time 't' when acceleration 'a', initial \n",
    "        phase 'p0' and angular frequency 'w0' are known.\n",
    "        \"\"\" \n",
    "        calc_phase_list_map = []\n",
    "\n",
    "        for ind1 in np.arange(len(p0)):\n",
    "            rest_phase = p0[ind1]\n",
    "            for ind2 in np.arange(len(w0)):\n",
    "                rest_freq = w0[ind2]\n",
    "                phase = rest_phase + 2*np.pi*rest_freq*t + 0.5 **2* t**2\n",
    "                calc_phase_list_map.append(phase)\n",
    "        flattened_array = np.ravel(np.array(calc_phase_list_map))\n",
    "        return flattened_array"
   ]
  },
  {
   "cell_type": "code",
   "execution_count": 5,
   "id": "456980a7-63e7-465d-9f7d-8c928b8b0850",
   "metadata": {},
   "outputs": [
    {
     "name": "stdout",
     "output_type": "stream",
     "text": [
      "[0.00000000e+00 8.58032414e-05 1.71606506e-04 ... 4.60104327e+05\n",
      " 4.60107469e+05 4.60110610e+05]\n"
     ]
    }
   ],
   "source": [
    "N_phase = [4, 8, 16, 32]\n",
    "N_freq =  [8, 16, 32, 64]\n",
    "num_of_computation = []\n",
    "total_time_of_computation = []\n",
    "\n",
    "for k1 in range(len(N_freq)):\n",
    "    \n",
    "    phase_values = np.linspace(0, np.pi*2, N_phase[k1]).astype('float32') \n",
    "    freq_values = np.linspace(lower_limit_freq, upper_limit_freq, N_freq[k1]).astype('float32')\n",
    "    \n",
    "    clock_start = time.time()\n",
    "    calculated_values = pulse_phase_python(phase_values, time_val, freq_values)\n",
    "    clock_end = time.time()\n",
    "    \n",
    "    time_taken = clock_end - clock_start\n",
    "    num_of_computation.append(N_phase[k1]*N_freq[k1]*146454)\n",
    "    total_time_of_computation.append(time_taken)\n",
    "    \n",
    "    if k1 == 3:\n",
    "        print(calculated_values)"
   ]
  },
  {
   "cell_type": "code",
   "execution_count": 6,
   "id": "449d0779-bb96-41e7-8b89-7528715a2d31",
   "metadata": {},
   "outputs": [
    {
     "data": {
      "text/plain": [
       "[4686528, 18746112, 74984448, 299937792]"
      ]
     },
     "execution_count": 6,
     "metadata": {},
     "output_type": "execute_result"
    }
   ],
   "source": [
    "num_of_computation"
   ]
  },
  {
   "cell_type": "code",
   "execution_count": 7,
   "id": "3fe0453b-6f5a-48f8-b6cd-3d239cd388be",
   "metadata": {},
   "outputs": [
    {
     "data": {
      "text/plain": [
       "[0.06199216842651367,\n",
       " 0.12781214714050293,\n",
       " 0.4987800121307373,\n",
       " 1.959019660949707]"
      ]
     },
     "execution_count": 7,
     "metadata": {},
     "output_type": "execute_result"
    }
   ],
   "source": [
    "total_time_of_computation"
   ]
  },
  {
   "cell_type": "code",
   "execution_count": null,
   "id": "12532322-b21f-4ea4-a1e9-5aff93536d1e",
   "metadata": {},
   "outputs": [],
   "source": []
  }
 ],
 "metadata": {
  "kernelspec": {
   "display_name": "Python 3 (ipykernel)",
   "language": "python",
   "name": "python3"
  },
  "language_info": {
   "codemirror_mode": {
    "name": "ipython",
    "version": 3
   },
   "file_extension": ".py",
   "mimetype": "text/x-python",
   "name": "python",
   "nbconvert_exporter": "python",
   "pygments_lexer": "ipython3",
   "version": "3.11.7"
  }
 },
 "nbformat": 4,
 "nbformat_minor": 5
}
