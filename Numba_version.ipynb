{
 "cells": [
  {
   "cell_type": "code",
   "execution_count": 1,
   "id": "06534131-90f8-4724-a979-0325e34fd2ef",
   "metadata": {},
   "outputs": [],
   "source": [
    "import pandas as pd\n",
    "import numpy as np\n",
    "import time\n",
    "from numba import jit\n",
    "import warnings\n",
    "warnings.filterwarnings('ignore')"
   ]
  },
  {
   "cell_type": "code",
   "execution_count": 2,
   "id": "f4d069d2-42df-447b-83e9-8dec319c89ee",
   "metadata": {},
   "outputs": [
    {
     "data": {
      "text/html": [
       "<div>\n",
       "<style scoped>\n",
       "    .dataframe tbody tr th:only-of-type {\n",
       "        vertical-align: middle;\n",
       "    }\n",
       "\n",
       "    .dataframe tbody tr th {\n",
       "        vertical-align: top;\n",
       "    }\n",
       "\n",
       "    .dataframe thead th {\n",
       "        text-align: right;\n",
       "    }\n",
       "</style>\n",
       "<table border=\"1\" class=\"dataframe\">\n",
       "  <thead>\n",
       "    <tr style=\"text-align: right;\">\n",
       "      <th></th>\n",
       "      <th>time_sec</th>\n",
       "      <th>intensity</th>\n",
       "    </tr>\n",
       "  </thead>\n",
       "  <tbody>\n",
       "    <tr>\n",
       "      <th>0</th>\n",
       "      <td>0.0</td>\n",
       "      <td>0.77546</td>\n",
       "    </tr>\n",
       "  </tbody>\n",
       "</table>\n",
       "</div>"
      ],
      "text/plain": [
       "   time_sec  intensity\n",
       "0       0.0    0.77546"
      ]
     },
     "execution_count": 2,
     "metadata": {},
     "output_type": "execute_result"
    }
   ],
   "source": [
    "df = pd.read_csv('/home/ak/research/emmanuel/proj_algorithm/NormalCode/sim_pulse_02_updated.txt', sep = '    ')\n",
    "time_val = np.array(df['time_sec'])\n",
    "sample_time = df['time_sec'][1] - df['time_sec'][0] \n",
    "lower_limit_freq = 2/(max(df['time_sec']))\n",
    "upper_limit_freq = 1/(2*sample_time)\n",
    "df.head(1)"
   ]
  },
  {
   "cell_type": "code",
   "execution_count": 3,
   "id": "0c6db3c9-5aa3-49dc-accb-ae63e47f45db",
   "metadata": {},
   "outputs": [],
   "source": [
    "@jit\n",
    "def pulse_phase_numba(p0, t, w0):    \n",
    "    \"\"\"\n",
    "    Calculates and returns pulse phase at any given time 't' when acceleration 'a', initial \n",
    "    phase 'p0' and angular frequency 'w0' are known.\n",
    "    \"\"\"\n",
    "    phase_values = phase_stamps + 2.0*np.pi*freq_stamps*time_stamps + 0.5**2*time_stamps**2\n",
    "    return phase_values"
   ]
  },
  {
   "cell_type": "code",
   "execution_count": 4,
   "id": "6863dacd-5adb-43a3-9a10-78af19b5a820",
   "metadata": {},
   "outputs": [
    {
     "name": "stdout",
     "output_type": "stream",
     "text": [
      "[0.00000000e+00 8.58032426e-05 1.71606508e-04 ... 4.60104336e+05\n",
      " 4.60107463e+05 4.60110616e+05]\n"
     ]
    }
   ],
   "source": [
    "N_phase = [4, 8, 16, 32]\n",
    "N_freq =  [8, 16, 32, 64]\n",
    "total_num_of_computation = []\n",
    "total_time_of_computation = []\n",
    "\n",
    "    \n",
    "for k1 in range(len(N_freq)):\n",
    "    phase_stamps = np.repeat(np.linspace(0,2.0*np.pi, N_phase[k1]), 146454*N_freq[k1]).astype('float32')\n",
    "    freq_values = np.repeat(np.linspace(lower_limit_freq, upper_limit_freq, N_freq[k1]), 146454).astype('float32')\n",
    "    freq_stamps = np.tile(freq_values, N_phase[k1])\n",
    "    time_stamps = np.tile(time_val, N_phase[k1]*N_freq[k1]).astype('float32')\n",
    "    \n",
    "    \n",
    "    clock_start = time.time()\n",
    "    calculated_values = pulse_phase_numba(phase_stamps, time_stamps, freq_stamps)\n",
    "    clock_end = time.time()\n",
    "    \n",
    "    time_taken = clock_end - clock_start\n",
    "    num_of_computation = N_phase[k1]*N_freq[k1]*146454\n",
    "    total_num_of_computation.append(num_of_computation)\n",
    "    total_time_of_computation.append(time_taken)\n",
    "    if k1 == 3:\n",
    "        print(calculated_values)"
   ]
  },
  {
   "cell_type": "code",
   "execution_count": 5,
   "id": "936f9367-e77d-4052-b3ad-c730366c3d88",
   "metadata": {},
   "outputs": [
    {
     "data": {
      "text/plain": [
       "[4686528, 18746112, 74984448, 299937792]"
      ]
     },
     "execution_count": 5,
     "metadata": {},
     "output_type": "execute_result"
    }
   ],
   "source": [
    "total_num_of_computation"
   ]
  },
  {
   "cell_type": "code",
   "execution_count": 6,
   "id": "5ed8d389-5967-41cf-9061-d83c38b21dc4",
   "metadata": {},
   "outputs": [
    {
     "data": {
      "text/plain": [
       "[0.7295937538146973,\n",
       " 0.016390085220336914,\n",
       " 0.016546964645385742,\n",
       " 0.016318321228027344]"
      ]
     },
     "execution_count": 6,
     "metadata": {},
     "output_type": "execute_result"
    }
   ],
   "source": [
    "total_time_of_computation"
   ]
  },
  {
   "cell_type": "code",
   "execution_count": null,
   "id": "c7de2705-f9ff-4e83-8a71-07e6a35b93d4",
   "metadata": {},
   "outputs": [],
   "source": []
  }
 ],
 "metadata": {
  "kernelspec": {
   "display_name": "Python 3 (ipykernel)",
   "language": "python",
   "name": "python3"
  },
  "language_info": {
   "codemirror_mode": {
    "name": "ipython",
    "version": 3
   },
   "file_extension": ".py",
   "mimetype": "text/x-python",
   "name": "python",
   "nbconvert_exporter": "python",
   "pygments_lexer": "ipython3",
   "version": "3.11.7"
  }
 },
 "nbformat": 4,
 "nbformat_minor": 5
}
