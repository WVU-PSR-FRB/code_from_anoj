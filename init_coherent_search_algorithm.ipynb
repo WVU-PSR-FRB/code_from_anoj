{
 "cells": [
  {
   "cell_type": "code",
   "execution_count": 26,
   "id": "ac693f2d",
   "metadata": {},
   "outputs": [],
   "source": [
    "import numpy as np\n",
    "import matplotlib.pyplot as plt"
   ]
  },
  {
   "cell_type": "markdown",
   "id": "c55a14a9",
   "metadata": {},
   "source": [
    "Equation 1 in K smith(2016). \n",
    "$$ \\phi(t) = \\phi_{0} + \\omega_{0}t + \\frac{1}{2}\\alpha t^2$$"
   ]
  },
  {
   "cell_type": "code",
   "execution_count": 27,
   "id": "03009d6c",
   "metadata": {},
   "outputs": [],
   "source": [
    "def pulse_phase(p0,t,w0,a):\n",
    "    '''\n",
    "    This function calculates and returns pulse phase at any given time 't' when acceleration 'a', intial \n",
    "    phase 'p0' and angular frequency 'w0' is known.\n",
    "    '''\n",
    "    phase = po + w0*t + 0.5*a*t**2\n",
    "    return phase"
   ]
  },
  {
   "cell_type": "markdown",
   "id": "f5aa94e8",
   "metadata": {},
   "source": [
    "$$ \\rho(\\phi) = e^{-2\\kappa(sin^2(\\phi/2))}$$\n",
    "\n",
    "where $$\\kappa = \\frac{log(2)}{2sin^2{(\\pi D/2)}}$$"
   ]
  },
  {
   "cell_type": "code",
   "execution_count": 28,
   "id": "a2aca8f2",
   "metadata": {},
   "outputs": [],
   "source": [
    "def von_mises_profile(D):\n",
    "    '''\n",
    "    This function calculates von_mises profile based on duty cycle obtained from previous kappa function.\n",
    "    For the vlue of pulse_phase it makes a call from pulse_phase function defined above\n",
    "    '''\n",
    "    k = (np.log(2))/(2*(np.sin((np.pi*D)/2))**2)\n",
    "    \n",
    "    y = np.exp(-2*k*(np.sin(pulse_phase/2))**2)\n",
    "    \n",
    "    return y"
   ]
  },
  {
   "cell_type": "code",
   "execution_count": null,
   "id": "15a364ac",
   "metadata": {},
   "outputs": [],
   "source": []
  }
 ],
 "metadata": {
  "kernelspec": {
   "display_name": "Python 3 (ipykernel)",
   "language": "python",
   "name": "python3"
  },
  "language_info": {
   "codemirror_mode": {
    "name": "ipython",
    "version": 3
   },
   "file_extension": ".py",
   "mimetype": "text/x-python",
   "name": "python",
   "nbconvert_exporter": "python",
   "pygments_lexer": "ipython3",
   "version": "3.9.12"
  }
 },
 "nbformat": 4,
 "nbformat_minor": 5
}
